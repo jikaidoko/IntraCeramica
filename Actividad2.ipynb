{
  "nbformat": 4,
  "nbformat_minor": 0,
  "metadata": {
    "colab": {
      "provenance": [],
      "authorship_tag": "ABX9TyPKOHWxyDHhF7EUuDoTAI8Q",
      "include_colab_link": true
    },
    "kernelspec": {
      "name": "python3",
      "display_name": "Python 3"
    },
    "language_info": {
      "name": "python"
    }
  },
  "cells": [
    {
      "cell_type": "markdown",
      "metadata": {
        "id": "view-in-github",
        "colab_type": "text"
      },
      "source": [
        "<a href=\"https://colab.research.google.com/github/jikaidoko/IntraCeramica/blob/main/Actividad2.ipynb\" target=\"_parent\"><img src=\"https://colab.research.google.com/assets/colab-badge.svg\" alt=\"Open In Colab\"/></a>"
      ]
    },
    {
      "cell_type": "markdown",
      "source": [
        "### Trabajo práctico: Actividad 2\n",
        "##### *Ejecutar un código en Python para identificar si un número ingresado por un usuario es par o impar*"
      ],
      "metadata": {
        "id": "jy1l7URn2aL-"
      }
    },
    {
      "cell_type": "markdown",
      "source": [
        "##### **Código:**"
      ],
      "metadata": {
        "id": "gQCBKGAw26HG"
      }
    },
    {
      "cell_type": "code",
      "source": [
        "try:\n",
        "    number = input('Ingrese un número:')\n",
        "    num_int = int(number)\n",
        "    if num_int % 2 == 0:\n",
        "        print(f'El número ingresado: {number} es par')\n",
        "    else:\n",
        "        print(f'El número ingresado: {number} es impar')\n",
        "except ValueError:\n",
        "    print('El valor ingresado no es un número válido.')"
      ],
      "metadata": {
        "colab": {
          "base_uri": "https://localhost:8080/"
        },
        "id": "M0H1Gd5D0xUL",
        "outputId": "3fd09989-4aea-4d58-9742-d4d8b3a7bed6"
      },
      "execution_count": 10,
      "outputs": [
        {
          "output_type": "stream",
          "name": "stdout",
          "text": [
            "Ingrese un número:9\n",
            "El número ingresado: 9 es impar\n"
          ]
        }
      ]
    }
  ]
}