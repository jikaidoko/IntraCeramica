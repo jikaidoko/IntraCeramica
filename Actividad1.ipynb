{
  "nbformat": 4,
  "nbformat_minor": 0,
  "metadata": {
    "colab": {
      "provenance": [],
      "authorship_tag": "ABX9TyM8YohtwWaucXnnyutz+zgH",
      "include_colab_link": true
    },
    "kernelspec": {
      "name": "python3",
      "display_name": "Python 3"
    },
    "language_info": {
      "name": "python"
    }
  },
  "cells": [
    {
      "cell_type": "markdown",
      "metadata": {
        "id": "view-in-github",
        "colab_type": "text"
      },
      "source": [
        "<a href=\"https://colab.research.google.com/github/jikaidoko/IntraCeramica/blob/main/Actividad1.ipynb\" target=\"_parent\"><img src=\"https://colab.research.google.com/assets/colab-badge.svg\" alt=\"Open In Colab\"/></a>"
      ]
    },
    {
      "cell_type": "markdown",
      "source": [
        "# Pablo Ifantidis\n",
        "### *Analista de Datos Junior*\n",
        "\n",
        "\n",
        "\n",
        "*   Conocimiento en **Python**\n",
        "*   Experiencia como **Project Manager**\n",
        "*   Trabajo en entornos colaborativos\n",
        "\n",
        "*   [Conocimiento en Pandas](https://pandas.pydata.org/)\n",
        "*   [Conocimiento en Numpy](https://numpy.org/doc/)\n",
        "\n",
        "<img src=\"https://drive.google.com/uc?id=1ICYZHLKNPcMUurDQm0jmEj6L3hSfLyp6\">\n",
        "\n",
        "> *\"La educación es el arma más poderosa que puedes usar para cambiar el mundo.\"*\n",
        ">\n",
        "> — **Nelson Mandela**\n",
        "\n",
        "\n"
      ],
      "metadata": {
        "id": "lyliMF-Xq2gm"
      }
    }
  ]
}